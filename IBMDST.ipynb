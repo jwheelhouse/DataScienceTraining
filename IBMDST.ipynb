{
    "cells": [
        {
            "cell_type": "markdown",
            "metadata": {
                "collapsed": true
            },
            "source": "***\n# <font color ='purple'>**IBM Data Science - Jupyter Notebook**</font>\n***\n### <font color ='blue'>*xG Analysis*</font>"
        },
        {
            "cell_type": "code",
            "execution_count": 4,
            "metadata": {},
            "outputs": [
                {
                    "data": {
                        "text/html": "<div>\n<style scoped>\n    .dataframe tbody tr th:only-of-type {\n        vertical-align: middle;\n    }\n\n    .dataframe tbody tr th {\n        vertical-align: top;\n    }\n\n    .dataframe thead th {\n        text-align: right;\n    }\n</style>\n<table border=\"1\" class=\"dataframe\">\n  <thead>\n    <tr style=\"text-align: right;\">\n      <th></th>\n      <th>Posistion</th>\n      <th>Team</th>\n      <th>Goals</th>\n      <th>xG</th>\n    </tr>\n  </thead>\n  <tbody>\n    <tr>\n      <th>0</th>\n      <td>1</td>\n      <td>Manchester City</td>\n      <td>67</td>\n      <td>66.88</td>\n    </tr>\n    <tr>\n      <th>1</th>\n      <td>2</td>\n      <td>Manchester United</td>\n      <td>58</td>\n      <td>50.30</td>\n    </tr>\n    <tr>\n      <th>2</th>\n      <td>3</td>\n      <td>Leicester</td>\n      <td>53</td>\n      <td>45.24</td>\n    </tr>\n    <tr>\n      <th>3</th>\n      <td>5</td>\n      <td>Chelsea</td>\n      <td>46</td>\n      <td>51.15</td>\n    </tr>\n    <tr>\n      <th>4</th>\n      <td>6</td>\n      <td>West Ham</td>\n      <td>48</td>\n      <td>39.04</td>\n    </tr>\n  </tbody>\n</table>\n</div>",
                        "text/plain": "   Posistion               Team  Goals     xG\n0          1    Manchester City     67  66.88\n1          2  Manchester United     58  50.30\n2          3          Leicester     53  45.24\n3          5            Chelsea     46  51.15\n4          6           West Ham     48  39.04"
                    },
                    "execution_count": 4,
                    "metadata": {},
                    "output_type": "execute_result"
                }
            ],
            "source": "# The code was removed by Watson Studio for sharing."
        },
        {
            "cell_type": "code",
            "execution_count": null,
            "metadata": {},
            "outputs": [],
            "source": ""
        }
    ],
    "metadata": {
        "kernelspec": {
            "display_name": "Python 3.7",
            "language": "python",
            "name": "python3"
        },
        "language_info": {
            "codemirror_mode": {
                "name": "ipython",
                "version": 3
            },
            "file_extension": ".py",
            "mimetype": "text/x-python",
            "name": "python",
            "nbconvert_exporter": "python",
            "pygments_lexer": "ipython3",
            "version": "3.7.10"
        }
    },
    "nbformat": 4,
    "nbformat_minor": 1
}